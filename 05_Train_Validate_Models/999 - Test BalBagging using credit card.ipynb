{
 "cells": [
  {
   "attachments": {
    "balbaggin_pipeline.webp": {
     "image/webp": "[encoded data removed]"
    }
   },
   "cell_type": "markdown",
   "id": "3472e3ea",
   "metadata": {},
   "source": [
    "The Balanced Bagging Classifier is a variant of the Bagging Classifier, which is an ensemble method that trains multiple classifiers on different subsets of the training data and combines their predictions. The Balanced Bagging Classifier, in addition to this, addresses the problem of imbalanced data by using random under sampling to balance the class distribution in each subset. This helps to reduce the bias towards the majority class and improve the performance on the minority class.\n",
    "\n",
    "![balbaggin_pipeline.webp](attachment:balbaggin_pipeline.webp) "
   ]
  },
  {
   "cell_type": "markdown",
   "id": "c34efcd8",
   "metadata": {},
   "source": [
    "In this example, we’ll use the Credit Card Fraud Detection dataset, which is a binary classification problem with highly imbalanced classes.\n"
   ]
  },
  {
   "cell_type": "code",
   "execution_count": 15,
   "id": "9bc4d18e",
   "metadata": {},
   "outputs": [],
   "source": [
    "def warn(*args, **kwargs):\n",
    "    pass\n",
    "import warnings\n",
    "warnings.warn = warn\n",
    "\n",
    "\n",
    "import numpy as np\n",
    "import pandas as pd\n",
    "from sklearn.model_selection import train_test_split\n",
    "from sklearn.ensemble import BaggingClassifier\n",
    "from sklearn.tree import DecisionTreeClassifier\n",
    "from sklearn.metrics import classification_report, confusion_matrix\n",
    "from imblearn.ensemble import BalancedBaggingClassifier\n",
    "\n",
    "data = pd.read_csv('creditcard.csv')\n",
    "X = data.drop(['Class'], axis=1)\n",
    "y = data['Class']"
   ]
  },
  {
   "cell_type": "markdown",
   "id": "f952bb86",
   "metadata": {},
   "source": [
    "Next, let’s split the data into training and testing sets:\n"
   ]
  },
  {
   "cell_type": "code",
   "execution_count": 8,
   "id": "cc2ab884",
   "metadata": {},
   "outputs": [],
   "source": [
    "X_train, X_test, y_train, y_test = train_test_split(\n",
    "    X, y, test_size=0.3, random_state=42\n",
    ")"
   ]
  },
  {
   "cell_type": "markdown",
   "id": "ee123f33",
   "metadata": {},
   "source": [
    "Now, let’s create the Balanced Bagging Classifier with Decision Tree as the base estimator:\n",
    "\n",
    "\n",
    "Here, we’re using the Decision Tree classifier as the base estimator, and ‘auto’ as the sampling_strategy, which means that the minority class will be oversampled to match the majority class and the majority class will be undersampled to match the minority class. We’re also setting replacement to False, which means that the sampling will be done without replacement."
   ]
  },
  {
   "cell_type": "code",
   "execution_count": 6,
   "id": "eb0e1811",
   "metadata": {},
   "outputs": [],
   "source": [
    "base_estimator = DecisionTreeClassifier()\n",
    "bbc = BalancedBaggingClassifier(\n",
    "    estimator=base_estimator, \n",
    "    sampling_strategy='auto', \n",
    "    replacement=False, \n",
    "    random_state=42\n",
    ")"
   ]
  },
  {
   "cell_type": "markdown",
   "id": "61c217f9",
   "metadata": {},
   "source": [
    "Next, let’s fit the model on the training data, make predictions on the test data, and evaluate the performance of the model:"
   ]
  },
  {
   "cell_type": "code",
   "execution_count": 7,
   "id": "fca03d3b",
   "metadata": {},
   "outputs": [
    {
     "name": "stdout",
     "output_type": "stream",
     "text": [
      "[[83375  1932]\n",
      " [   10   126]]\n",
      "              precision    recall  f1-score   support\n",
      "\n",
      "           0       1.00      0.98      0.99     85307\n",
      "           1       0.06      0.93      0.11       136\n",
      "\n",
      "    accuracy                           0.98     85443\n",
      "   macro avg       0.53      0.95      0.55     85443\n",
      "weighted avg       1.00      0.98      0.99     85443\n",
      "\n"
     ]
    }
   ],
   "source": [
    "bbc.fit(X_train, y_train)\n",
    "\n",
    "y_pred = bbc.predict(X_test)\n",
    "\n",
    "print(confusion_matrix(y_test, y_pred))\n",
    "print(classification_report(y_test, y_pred))"
   ]
  },
  {
   "cell_type": "markdown",
   "id": "d196526c",
   "metadata": {},
   "source": [
    "Note: There are several other algorithms that are similar to Balanced Bagging Classifier in terms of their application for anomaly detection. Here are some examples\n",
    "\n",
    "1. Local Outlier Factor (LOF): LOF is another unsupervised learning algorithm that detects outliers by measuring the local density of instances relative to their neighbors. Anomalies are instances that have a significantly lower density than their neighbors.\n",
    "\n",
    "\n",
    "2. Angle-Based Outlier Detection (ABOD): ABOD is another unsupervised learning algorithm that detects outliers by measuring the angles between instances. Anomalies are instances that have significantly different angles than their neighbors.\n",
    "\n",
    "\n",
    "3. Mahalanobis Distance: Mahalanobis distance is a distance metric that measures the distance between a point and a distribution. Anomalies are instances that have a significantly large Mahalanobis distance from the distribution.\n",
    "\n",
    "\n",
    "4. Minimum Covariance Determinant (MCD): MCD is a robust estimator of the covariance matrix of a dataset. It can be used to identify outliers by measuring the Mahalanobis distance of each instance from the estimated distribution.\n",
    "\n",
    "\n",
    "5. Support Vector Data Description (SVDD): SVDD is a supervised learning algorithm that learns a hypersphere around the normal instances and identifies anomalies as instances that fall outside the hypersphere.\n",
    "\n",
    "\n",
    "6. Autoencoder-based approaches: Autoencoders are a type of neural network that learns to reconstruct the input data. Anomalies are identified as instances that cannot be reconstructed accurately.\n",
    "\n",
    "\n",
    "Balance Bagging Classifier is a specialized ensemble learning algorithm that is specifically designed to address the problem of imbalanced classification. It combines the power of bagging with resampling techniques to achieve a better balance between the minority and majority classes. Compared to the other techniques mentioned earlier, Balance Bagging Classifier has the following advantages:\n",
    "\n",
    "It is an ensemble method that combines multiple classifiers, which makes it more robust and less prone to overfitting.\n",
    "It uses resampling techniques to balance the class distribution, which can improve the performance of the classifiers.\n",
    "It is flexible and can be used with any type of base classifier, which allows for a wide range of applications.\n",
    "It can handle both binary and multiclass classification problems.\n",
    "However, Balance Bagging Classifier also has some limitations. One limitation is that it requires a sufficient number of minority class samples to be effective. If the number of minority class samples is too small, the resampling techniques may not be able to generate enough diverse samples to train the classifiers.\n",
    "\n",
    "Compared to the other techniques mentioned earlier, Balance Bagging Classifier is generally more effective in dealing with severe class imbalance, where the minority class is significantly smaller than the majority class. It can also handle datasets with a large number of features and instances.\n",
    "\n",
    "However, the choice of technique ultimately depends on the specific problem at hand and the nature of the data. It is important to carefully evaluate the performance of different techniques and choose the one that works best for the specific application.\n",
    "\n"
   ]
  },
  {
   "cell_type": "markdown",
   "id": "e8f8fbfc",
   "metadata": {},
   "source": [
    "---\n",
    "---\n",
    "---\n",
    "# OTHER EXAMPLE"
   ]
  },
  {
   "cell_type": "markdown",
   "id": "8096b60e",
   "metadata": {},
   "source": [
    "Hello hi hey there, once again we meet with another topic of “how to handle imbalanced datasets” In our previous discussion we performed various ways like Smote, CNN, OSS, NCR, ENN Tomeklinks, and many more. This time we will look for default sklearn features that can handle imbalanced datasets with ease.\n",
    "\n",
    "One of them is Balanced Bagging Classifier. just like our regular bagging classifier that builds several estimators on different random subsets of data, our regular bagging classifiers don't allow us to balance each subset of data. Therefore when we train our model on an imbalanced dataset our regular bagging classifiers will favor the majority classes.\n",
    "\n",
    "Let’s run a comparison of both"
   ]
  },
  {
   "cell_type": "markdown",
   "id": "77b0adec",
   "metadata": {},
   "source": [
    "1. Bagging Classifier"
   ]
  },
  {
   "cell_type": "code",
   "execution_count": 10,
   "id": "389c57d6",
   "metadata": {},
   "outputs": [
    {
     "name": "stdout",
     "output_type": "stream",
     "text": [
      "Accuracy 0.7739629664028289\n"
     ]
    }
   ],
   "source": [
    "from sklearn.datasets import make_classification\n",
    "#create a dataset\n",
    "X, y = make_classification(n_samples=10000, n_features=2, n_informative=2,n_redundant=0, n_repeated=0, n_classes=3, n_clusters_per_class=1,weights=[0.01, 0.05, 0.94], class_sep=0.8, random_state=0)\n",
    "from sklearn.model_selection import train_test_split\n",
    "from sklearn.metrics import balanced_accuracy_score\n",
    "from sklearn.ensemble import BaggingClassifier\n",
    "from sklearn.tree import DecisionTreeClassifier\n",
    "X_train, X_test, y_train, y_test = train_test_split(X, y, random_state=0)\n",
    "\n",
    "bc = BaggingClassifier(estimator=DecisionTreeClassifier(), random_state=0)\n",
    "bc.fit(X_train, y_train)\n",
    "\n",
    "y_pred = bc.predict(X_test)\n",
    "print(\"Accuracy\",balanced_accuracy_score(y_test, y_pred))\n",
    "#Accuracy 0.7739"
   ]
  },
  {
   "cell_type": "markdown",
   "id": "6e3c5853",
   "metadata": {},
   "source": [
    "2. Now let's try with our new BalancedBaggingClassifier()"
   ]
  },
  {
   "cell_type": "code",
   "execution_count": 11,
   "id": "a40dcb56",
   "metadata": {},
   "outputs": [
    {
     "name": "stdout",
     "output_type": "stream",
     "text": [
      "Accuracy 0.8251353587264241\n"
     ]
    }
   ],
   "source": [
    "from imblearn.ensemble import BalancedBaggingClassifier\n",
    "\n",
    "bbc = BalancedBaggingClassifier(\n",
    "    estimator=DecisionTreeClassifier(), \n",
    "    sampling_strategy='auto',  \n",
    "    replacement=False,\n",
    "    random_state=0\n",
    ")\n",
    "\n",
    "bbc.fit(X_train, y_train)\n",
    "y_pred = bbc.predict(X_test)\n",
    "print(\"Accuracy\",balanced_accuracy_score(y_test, y_pred))\n",
    "#Accuracy 0.8"
   ]
  },
  {
   "cell_type": "markdown",
   "id": "71fc8443",
   "metadata": {},
   "source": [
    "3. BalancedRandomForestClassifier is another ensemble method in which the tree of the forest will be provided with a balanced bootstrap sample."
   ]
  },
  {
   "cell_type": "code",
   "execution_count": 17,
   "id": "580d4717",
   "metadata": {},
   "outputs": [
    {
     "name": "stdout",
     "output_type": "stream",
     "text": [
      "Accuracy 0.8102589703105166\n"
     ]
    }
   ],
   "source": [
    "from imblearn.ensemble import BalancedRandomForestClassifier\n",
    "\n",
    "brf = BalancedRandomForestClassifier(\n",
    "    n_estimators=100, \n",
    "    random_state=0\n",
    ")\n",
    "\n",
    "brf.fit(X_train, y_train)\n",
    "\n",
    "y_pred = brf.predict(X_test)\n",
    "print(\"Accuracy\",balanced_accuracy_score(y_test, y_pred))\n",
    "\n",
    "#Accuracy 0.8"
   ]
  },
  {
   "cell_type": "markdown",
   "id": "e2150f3a",
   "metadata": {},
   "source": [
    "---\n",
    "Bonus: 4.) SMOTE-NC"
   ]
  },
  {
   "cell_type": "code",
   "execution_count": 18,
   "id": "8a18130a",
   "metadata": {},
   "outputs": [
    {
     "ename": "ValueError",
     "evalue": "SMOTE-NC is not designed to work only with categorical features. It requires some numerical features.",
     "output_type": "error",
     "traceback": [
      "\u001b[0;31m---------------------------------------------------------------------------\u001b[0m",
      "\u001b[0;31mValueError\u001b[0m                                Traceback (most recent call last)",
      "\u001b[0;32m/tmp/ipykernel_7601/698843381.py\u001b[0m in \u001b[0;36m<module>\u001b[0;34m\u001b[0m\n\u001b[1;32m      8\u001b[0m )\n\u001b[1;32m      9\u001b[0m \u001b[0;34m\u001b[0m\u001b[0m\n\u001b[0;32m---> 10\u001b[0;31m \u001b[0mX_train_res\u001b[0m\u001b[0;34m,\u001b[0m \u001b[0my_train_res\u001b[0m \u001b[0;34m=\u001b[0m \u001b[0msm\u001b[0m\u001b[0;34m.\u001b[0m\u001b[0mfit_resample\u001b[0m\u001b[0;34m(\u001b[0m\u001b[0mX_train\u001b[0m\u001b[0;34m,\u001b[0m \u001b[0my_train\u001b[0m\u001b[0;34m)\u001b[0m\u001b[0;34m\u001b[0m\u001b[0;34m\u001b[0m\u001b[0m\n\u001b[0m",
      "\u001b[0;32m~/anaconda3/lib/python3.9/site-packages/imblearn/base.py\u001b[0m in \u001b[0;36mfit_resample\u001b[0;34m(self, X, y)\u001b[0m\n\u001b[1;32m    201\u001b[0m         \"\"\"\n\u001b[1;32m    202\u001b[0m         \u001b[0mself\u001b[0m\u001b[0;34m.\u001b[0m\u001b[0m_validate_params\u001b[0m\u001b[0;34m(\u001b[0m\u001b[0;34m)\u001b[0m\u001b[0;34m\u001b[0m\u001b[0;34m\u001b[0m\u001b[0m\n\u001b[0;32m--> 203\u001b[0;31m         \u001b[0;32mreturn\u001b[0m \u001b[0msuper\u001b[0m\u001b[0;34m(\u001b[0m\u001b[0;34m)\u001b[0m\u001b[0;34m.\u001b[0m\u001b[0mfit_resample\u001b[0m\u001b[0;34m(\u001b[0m\u001b[0mX\u001b[0m\u001b[0;34m,\u001b[0m \u001b[0my\u001b[0m\u001b[0;34m)\u001b[0m\u001b[0;34m\u001b[0m\u001b[0;34m\u001b[0m\u001b[0m\n\u001b[0m\u001b[1;32m    204\u001b[0m \u001b[0;34m\u001b[0m\u001b[0m\n\u001b[1;32m    205\u001b[0m     \u001b[0;32mdef\u001b[0m \u001b[0m_more_tags\u001b[0m\u001b[0;34m(\u001b[0m\u001b[0mself\u001b[0m\u001b[0;34m)\u001b[0m\u001b[0;34m:\u001b[0m\u001b[0;34m\u001b[0m\u001b[0;34m\u001b[0m\u001b[0m\n",
      "\u001b[0;32m~/anaconda3/lib/python3.9/site-packages/imblearn/base.py\u001b[0m in \u001b[0;36mfit_resample\u001b[0;34m(self, X, y)\u001b[0m\n\u001b[1;32m     86\u001b[0m         )\n\u001b[1;32m     87\u001b[0m \u001b[0;34m\u001b[0m\u001b[0m\n\u001b[0;32m---> 88\u001b[0;31m         \u001b[0moutput\u001b[0m \u001b[0;34m=\u001b[0m \u001b[0mself\u001b[0m\u001b[0;34m.\u001b[0m\u001b[0m_fit_resample\u001b[0m\u001b[0;34m(\u001b[0m\u001b[0mX\u001b[0m\u001b[0;34m,\u001b[0m \u001b[0my\u001b[0m\u001b[0;34m)\u001b[0m\u001b[0;34m\u001b[0m\u001b[0;34m\u001b[0m\u001b[0m\n\u001b[0m\u001b[1;32m     89\u001b[0m \u001b[0;34m\u001b[0m\u001b[0m\n\u001b[1;32m     90\u001b[0m         y_ = (\n",
      "\u001b[0;32m~/anaconda3/lib/python3.9/site-packages/imblearn/over_sampling/_smote/base.py\u001b[0m in \u001b[0;36m_fit_resample\u001b[0;34m(self, X, y)\u001b[0m\n\u001b[1;32m    578\u001b[0m \u001b[0;34m\u001b[0m\u001b[0m\n\u001b[1;32m    579\u001b[0m         \u001b[0mself\u001b[0m\u001b[0;34m.\u001b[0m\u001b[0mn_features_\u001b[0m \u001b[0;34m=\u001b[0m \u001b[0mX\u001b[0m\u001b[0;34m.\u001b[0m\u001b[0mshape\u001b[0m\u001b[0;34m[\u001b[0m\u001b[0;36m1\u001b[0m\u001b[0;34m]\u001b[0m\u001b[0;34m\u001b[0m\u001b[0;34m\u001b[0m\u001b[0m\n\u001b[0;32m--> 580\u001b[0;31m         \u001b[0mself\u001b[0m\u001b[0;34m.\u001b[0m\u001b[0m_validate_estimator\u001b[0m\u001b[0;34m(\u001b[0m\u001b[0;34m)\u001b[0m\u001b[0;34m\u001b[0m\u001b[0;34m\u001b[0m\u001b[0m\n\u001b[0m\u001b[1;32m    581\u001b[0m \u001b[0;34m\u001b[0m\u001b[0m\n\u001b[1;32m    582\u001b[0m         \u001b[0;31m# compute the median of the standard deviation of the minority class\u001b[0m\u001b[0;34m\u001b[0m\u001b[0;34m\u001b[0m\u001b[0m\n",
      "\u001b[0;32m~/anaconda3/lib/python3.9/site-packages/imblearn/over_sampling/_smote/base.py\u001b[0m in \u001b[0;36m_validate_estimator\u001b[0;34m(self)\u001b[0m\n\u001b[1;32m    562\u001b[0m \u001b[0;34m\u001b[0m\u001b[0m\n\u001b[1;32m    563\u001b[0m         \u001b[0;32mif\u001b[0m \u001b[0mself\u001b[0m\u001b[0;34m.\u001b[0m\u001b[0mcategorical_features_\u001b[0m\u001b[0;34m.\u001b[0m\u001b[0msize\u001b[0m \u001b[0;34m==\u001b[0m \u001b[0mself\u001b[0m\u001b[0;34m.\u001b[0m\u001b[0mn_features_in_\u001b[0m\u001b[0;34m:\u001b[0m\u001b[0;34m\u001b[0m\u001b[0;34m\u001b[0m\u001b[0m\n\u001b[0;32m--> 564\u001b[0;31m             raise ValueError(\n\u001b[0m\u001b[1;32m    565\u001b[0m                 \u001b[0;34m\"SMOTE-NC is not designed to work only with categorical \"\u001b[0m\u001b[0;34m\u001b[0m\u001b[0;34m\u001b[0m\u001b[0m\n\u001b[1;32m    566\u001b[0m                 \u001b[0;34m\"features. It requires some numerical features.\"\u001b[0m\u001b[0;34m\u001b[0m\u001b[0;34m\u001b[0m\u001b[0m\n",
      "\u001b[0;31mValueError\u001b[0m: SMOTE-NC is not designed to work only with categorical features. It requires some numerical features."
     ]
    }
   ],
   "source": [
    "from imblearn.over_sampling import SMOTENC\n",
    "\n",
    "cat_indx =[0,1]\n",
    "\n",
    "sm = SMOTENC(\n",
    "    categorical_features=cat_indx, \n",
    "    random_state=0\n",
    ")\n",
    "\n",
    "X_train_res, y_train_res = sm.fit_resample(X_train, y_train)\n"
   ]
  },
  {
   "cell_type": "code",
   "execution_count": null,
   "id": "24d5f059",
   "metadata": {},
   "outputs": [],
   "source": []
  }
 ],
 "metadata": {
  "kernelspec": {
   "display_name": "Python 3 (ipykernel)",
   "language": "python",
   "name": "python3"
  },
  "language_info": {
   "codemirror_mode": {
    "name": "ipython",
    "version": 3
   },
   "file_extension": ".py",
   "mimetype": "text/x-python",
   "name": "python",
   "nbconvert_exporter": "python",
   "pygments_lexer": "ipython3",
   "version": "3.9.13"
  }
 },
 "nbformat": 4,
 "nbformat_minor": 5
}
