{
 "cells": [
  {
   "cell_type": "code",
   "execution_count": 14,
   "id": "1b73055a",
   "metadata": {},
   "outputs": [],
   "source": [
    "import tensorflow_decision_forests as tfdf\n",
    "\n",
    "import os\n",
    "import numpy as np\n",
    "import pandas as pd\n",
    "import tensorflow as tf\n",
    "import math\n",
    "\n",
    "try:\n",
    "  from wurlitzer import sys_pipes\n",
    "except:\n",
    "  from colabtools.googlelog import CaptureLog as sys_pipes\n",
    "\n",
    "from IPython.core.magic import register_line_magic\n",
    "from IPython.display import Javascript"
   ]
  },
  {
   "cell_type": "code",
   "execution_count": 4,
   "id": "6692c08e",
   "metadata": {},
   "outputs": [
    {
     "name": "stdout",
     "output_type": "stream",
     "text": [
      "Found TensorFlow Decision Forests v1.5.0\n"
     ]
    }
   ],
   "source": [
    "print(\"Found TensorFlow Decision Forests v\" + tfdf.__version__)\n"
   ]
  },
  {
   "cell_type": "code",
   "execution_count": 8,
   "id": "b601922f",
   "metadata": {},
   "outputs": [
    {
     "data": {
      "text/html": [
       "<div>\n",
       "<style scoped>\n",
       "    .dataframe tbody tr th:only-of-type {\n",
       "        vertical-align: middle;\n",
       "    }\n",
       "\n",
       "    .dataframe tbody tr th {\n",
       "        vertical-align: top;\n",
       "    }\n",
       "\n",
       "    .dataframe thead th {\n",
       "        text-align: right;\n",
       "    }\n",
       "</style>\n",
       "<table border=\"1\" class=\"dataframe\">\n",
       "  <thead>\n",
       "    <tr style=\"text-align: right;\">\n",
       "      <th></th>\n",
       "      <th>species</th>\n",
       "      <th>island</th>\n",
       "      <th>bill_length_mm</th>\n",
       "      <th>bill_depth_mm</th>\n",
       "      <th>flipper_length_mm</th>\n",
       "      <th>body_mass_g</th>\n",
       "      <th>sex</th>\n",
       "      <th>year</th>\n",
       "    </tr>\n",
       "  </thead>\n",
       "  <tbody>\n",
       "    <tr>\n",
       "      <th>0</th>\n",
       "      <td>Adelie</td>\n",
       "      <td>Torgersen</td>\n",
       "      <td>39.1</td>\n",
       "      <td>18.7</td>\n",
       "      <td>181.0</td>\n",
       "      <td>3750.0</td>\n",
       "      <td>male</td>\n",
       "      <td>2007</td>\n",
       "    </tr>\n",
       "    <tr>\n",
       "      <th>1</th>\n",
       "      <td>Adelie</td>\n",
       "      <td>Torgersen</td>\n",
       "      <td>39.5</td>\n",
       "      <td>17.4</td>\n",
       "      <td>186.0</td>\n",
       "      <td>3800.0</td>\n",
       "      <td>female</td>\n",
       "      <td>2007</td>\n",
       "    </tr>\n",
       "    <tr>\n",
       "      <th>2</th>\n",
       "      <td>Adelie</td>\n",
       "      <td>Torgersen</td>\n",
       "      <td>40.3</td>\n",
       "      <td>18.0</td>\n",
       "      <td>195.0</td>\n",
       "      <td>3250.0</td>\n",
       "      <td>female</td>\n",
       "      <td>2007</td>\n",
       "    </tr>\n",
       "  </tbody>\n",
       "</table>\n",
       "</div>"
      ],
      "text/plain": [
       "  species     island  bill_length_mm  bill_depth_mm  flipper_length_mm  \\\n",
       "0  Adelie  Torgersen            39.1           18.7              181.0   \n",
       "1  Adelie  Torgersen            39.5           17.4              186.0   \n",
       "2  Adelie  Torgersen            40.3           18.0              195.0   \n",
       "\n",
       "   body_mass_g     sex  year  \n",
       "0       3750.0    male  2007  \n",
       "1       3800.0  female  2007  \n",
       "2       3250.0  female  2007  "
      ]
     },
     "execution_count": 8,
     "metadata": {},
     "output_type": "execute_result"
    }
   ],
   "source": [
    "# Download the dataset\n",
    "!wget -q https://storage.googleapis.com/download.tensorflow.org/data/palmer_penguins/penguins.csv -O penguins.csv\n",
    "\n",
    "# Load a dataset into a Pandas Dataframe.\n",
    "dataset_df = pd.read_csv(\"penguins.csv\")\n",
    "\n",
    "# Display the first 3 examples.\n",
    "dataset_df.head(3)"
   ]
  },
  {
   "cell_type": "code",
   "execution_count": 9,
   "id": "0f77eda5",
   "metadata": {},
   "outputs": [
    {
     "name": "stdout",
     "output_type": "stream",
     "text": [
      "Label classes: ['Adelie', 'Gentoo', 'Chinstrap']\n"
     ]
    },
    {
     "data": {
      "text/html": [
       "<div>\n",
       "<style scoped>\n",
       "    .dataframe tbody tr th:only-of-type {\n",
       "        vertical-align: middle;\n",
       "    }\n",
       "\n",
       "    .dataframe tbody tr th {\n",
       "        vertical-align: top;\n",
       "    }\n",
       "\n",
       "    .dataframe thead th {\n",
       "        text-align: right;\n",
       "    }\n",
       "</style>\n",
       "<table border=\"1\" class=\"dataframe\">\n",
       "  <thead>\n",
       "    <tr style=\"text-align: right;\">\n",
       "      <th></th>\n",
       "      <th>species</th>\n",
       "      <th>island</th>\n",
       "      <th>bill_length_mm</th>\n",
       "      <th>bill_depth_mm</th>\n",
       "      <th>flipper_length_mm</th>\n",
       "      <th>body_mass_g</th>\n",
       "      <th>sex</th>\n",
       "      <th>year</th>\n",
       "    </tr>\n",
       "  </thead>\n",
       "  <tbody>\n",
       "    <tr>\n",
       "      <th>0</th>\n",
       "      <td>0</td>\n",
       "      <td>Torgersen</td>\n",
       "      <td>39.1</td>\n",
       "      <td>18.7</td>\n",
       "      <td>181.0</td>\n",
       "      <td>3750.0</td>\n",
       "      <td>male</td>\n",
       "      <td>2007</td>\n",
       "    </tr>\n",
       "    <tr>\n",
       "      <th>1</th>\n",
       "      <td>0</td>\n",
       "      <td>Torgersen</td>\n",
       "      <td>39.5</td>\n",
       "      <td>17.4</td>\n",
       "      <td>186.0</td>\n",
       "      <td>3800.0</td>\n",
       "      <td>female</td>\n",
       "      <td>2007</td>\n",
       "    </tr>\n",
       "    <tr>\n",
       "      <th>2</th>\n",
       "      <td>0</td>\n",
       "      <td>Torgersen</td>\n",
       "      <td>40.3</td>\n",
       "      <td>18.0</td>\n",
       "      <td>195.0</td>\n",
       "      <td>3250.0</td>\n",
       "      <td>female</td>\n",
       "      <td>2007</td>\n",
       "    </tr>\n",
       "    <tr>\n",
       "      <th>3</th>\n",
       "      <td>0</td>\n",
       "      <td>Torgersen</td>\n",
       "      <td>NaN</td>\n",
       "      <td>NaN</td>\n",
       "      <td>NaN</td>\n",
       "      <td>NaN</td>\n",
       "      <td>NaN</td>\n",
       "      <td>2007</td>\n",
       "    </tr>\n",
       "    <tr>\n",
       "      <th>4</th>\n",
       "      <td>0</td>\n",
       "      <td>Torgersen</td>\n",
       "      <td>36.7</td>\n",
       "      <td>19.3</td>\n",
       "      <td>193.0</td>\n",
       "      <td>3450.0</td>\n",
       "      <td>female</td>\n",
       "      <td>2007</td>\n",
       "    </tr>\n",
       "    <tr>\n",
       "      <th>...</th>\n",
       "      <td>...</td>\n",
       "      <td>...</td>\n",
       "      <td>...</td>\n",
       "      <td>...</td>\n",
       "      <td>...</td>\n",
       "      <td>...</td>\n",
       "      <td>...</td>\n",
       "      <td>...</td>\n",
       "    </tr>\n",
       "    <tr>\n",
       "      <th>339</th>\n",
       "      <td>2</td>\n",
       "      <td>Dream</td>\n",
       "      <td>55.8</td>\n",
       "      <td>19.8</td>\n",
       "      <td>207.0</td>\n",
       "      <td>4000.0</td>\n",
       "      <td>male</td>\n",
       "      <td>2009</td>\n",
       "    </tr>\n",
       "    <tr>\n",
       "      <th>340</th>\n",
       "      <td>2</td>\n",
       "      <td>Dream</td>\n",
       "      <td>43.5</td>\n",
       "      <td>18.1</td>\n",
       "      <td>202.0</td>\n",
       "      <td>3400.0</td>\n",
       "      <td>female</td>\n",
       "      <td>2009</td>\n",
       "    </tr>\n",
       "    <tr>\n",
       "      <th>341</th>\n",
       "      <td>2</td>\n",
       "      <td>Dream</td>\n",
       "      <td>49.6</td>\n",
       "      <td>18.2</td>\n",
       "      <td>193.0</td>\n",
       "      <td>3775.0</td>\n",
       "      <td>male</td>\n",
       "      <td>2009</td>\n",
       "    </tr>\n",
       "    <tr>\n",
       "      <th>342</th>\n",
       "      <td>2</td>\n",
       "      <td>Dream</td>\n",
       "      <td>50.8</td>\n",
       "      <td>19.0</td>\n",
       "      <td>210.0</td>\n",
       "      <td>4100.0</td>\n",
       "      <td>male</td>\n",
       "      <td>2009</td>\n",
       "    </tr>\n",
       "    <tr>\n",
       "      <th>343</th>\n",
       "      <td>2</td>\n",
       "      <td>Dream</td>\n",
       "      <td>50.2</td>\n",
       "      <td>18.7</td>\n",
       "      <td>198.0</td>\n",
       "      <td>3775.0</td>\n",
       "      <td>female</td>\n",
       "      <td>2009</td>\n",
       "    </tr>\n",
       "  </tbody>\n",
       "</table>\n",
       "<p>344 rows × 8 columns</p>\n",
       "</div>"
      ],
      "text/plain": [
       "     species     island  bill_length_mm  bill_depth_mm  flipper_length_mm  \\\n",
       "0          0  Torgersen            39.1           18.7              181.0   \n",
       "1          0  Torgersen            39.5           17.4              186.0   \n",
       "2          0  Torgersen            40.3           18.0              195.0   \n",
       "3          0  Torgersen             NaN            NaN                NaN   \n",
       "4          0  Torgersen            36.7           19.3              193.0   \n",
       "..       ...        ...             ...            ...                ...   \n",
       "339        2      Dream            55.8           19.8              207.0   \n",
       "340        2      Dream            43.5           18.1              202.0   \n",
       "341        2      Dream            49.6           18.2              193.0   \n",
       "342        2      Dream            50.8           19.0              210.0   \n",
       "343        2      Dream            50.2           18.7              198.0   \n",
       "\n",
       "     body_mass_g     sex  year  \n",
       "0         3750.0    male  2007  \n",
       "1         3800.0  female  2007  \n",
       "2         3250.0  female  2007  \n",
       "3            NaN     NaN  2007  \n",
       "4         3450.0  female  2007  \n",
       "..           ...     ...   ...  \n",
       "339       4000.0    male  2009  \n",
       "340       3400.0  female  2009  \n",
       "341       3775.0    male  2009  \n",
       "342       4100.0    male  2009  \n",
       "343       3775.0  female  2009  \n",
       "\n",
       "[344 rows x 8 columns]"
      ]
     },
     "execution_count": 9,
     "metadata": {},
     "output_type": "execute_result"
    }
   ],
   "source": [
    "# Encode the categorical label into an integer.\n",
    "#\n",
    "# Details:\n",
    "# This stage is necessary if your classification label is represented as a\n",
    "# string. Note: Keras expected classification labels to be integers.\n",
    "\n",
    "# Name of the label column.\n",
    "label = \"species\"\n",
    "\n",
    "classes = dataset_df[label].unique().tolist()\n",
    "print(f\"Label classes: {classes}\")\n",
    "\n",
    "dataset_df[label] = dataset_df[label].map(classes.index)\n",
    "\n",
    "dataset_df"
   ]
  },
  {
   "cell_type": "code",
   "execution_count": 10,
   "id": "517689e3",
   "metadata": {},
   "outputs": [
    {
     "name": "stdout",
     "output_type": "stream",
     "text": [
      "234 examples in training, 110 examples for testing.\n"
     ]
    }
   ],
   "source": [
    "# Split the dataset into a training and a testing dataset.\n",
    "\n",
    "def split_dataset(dataset, test_ratio=0.30):\n",
    "  \"\"\"Splits a panda dataframe in two.\"\"\"\n",
    "  test_indices = np.random.rand(len(dataset)) < test_ratio\n",
    "  return dataset[~test_indices], dataset[test_indices]\n",
    "\n",
    "\n",
    "train_ds_pd, test_ds_pd = split_dataset(dataset_df)\n",
    "print(\"{} examples in training, {} examples for testing.\".format(\n",
    "    len(train_ds_pd), len(test_ds_pd)))"
   ]
  },
  {
   "cell_type": "code",
   "execution_count": 11,
   "id": "763cead9",
   "metadata": {},
   "outputs": [
    {
     "name": "stderr",
     "output_type": "stream",
     "text": [
      "2023-09-22 15:50:30.594344: I tensorflow/compiler/xla/stream_executor/cuda/cuda_gpu_executor.cc:995] successful NUMA node read from SysFS had negative value (-1), but there must be at least one NUMA node, so returning NUMA node zero. See more at https://github.com/torvalds/linux/blob/v6.0/Documentation/ABI/testing/sysfs-bus-pci#L344-L355\n",
      "2023-09-22 15:50:30.690695: I tensorflow/compiler/xla/stream_executor/cuda/cuda_gpu_executor.cc:995] successful NUMA node read from SysFS had negative value (-1), but there must be at least one NUMA node, so returning NUMA node zero. See more at https://github.com/torvalds/linux/blob/v6.0/Documentation/ABI/testing/sysfs-bus-pci#L344-L355\n",
      "2023-09-22 15:50:30.690935: I tensorflow/compiler/xla/stream_executor/cuda/cuda_gpu_executor.cc:995] successful NUMA node read from SysFS had negative value (-1), but there must be at least one NUMA node, so returning NUMA node zero. See more at https://github.com/torvalds/linux/blob/v6.0/Documentation/ABI/testing/sysfs-bus-pci#L344-L355\n",
      "2023-09-22 15:50:30.692816: I tensorflow/compiler/xla/stream_executor/cuda/cuda_gpu_executor.cc:995] successful NUMA node read from SysFS had negative value (-1), but there must be at least one NUMA node, so returning NUMA node zero. See more at https://github.com/torvalds/linux/blob/v6.0/Documentation/ABI/testing/sysfs-bus-pci#L344-L355\n",
      "2023-09-22 15:50:30.693008: I tensorflow/compiler/xla/stream_executor/cuda/cuda_gpu_executor.cc:995] successful NUMA node read from SysFS had negative value (-1), but there must be at least one NUMA node, so returning NUMA node zero. See more at https://github.com/torvalds/linux/blob/v6.0/Documentation/ABI/testing/sysfs-bus-pci#L344-L355\n",
      "2023-09-22 15:50:30.693148: I tensorflow/compiler/xla/stream_executor/cuda/cuda_gpu_executor.cc:995] successful NUMA node read from SysFS had negative value (-1), but there must be at least one NUMA node, so returning NUMA node zero. See more at https://github.com/torvalds/linux/blob/v6.0/Documentation/ABI/testing/sysfs-bus-pci#L344-L355\n",
      "2023-09-22 15:50:31.566354: I tensorflow/compiler/xla/stream_executor/cuda/cuda_gpu_executor.cc:995] successful NUMA node read from SysFS had negative value (-1), but there must be at least one NUMA node, so returning NUMA node zero. See more at https://github.com/torvalds/linux/blob/v6.0/Documentation/ABI/testing/sysfs-bus-pci#L344-L355\n",
      "2023-09-22 15:50:31.566521: I tensorflow/compiler/xla/stream_executor/cuda/cuda_gpu_executor.cc:995] successful NUMA node read from SysFS had negative value (-1), but there must be at least one NUMA node, so returning NUMA node zero. See more at https://github.com/torvalds/linux/blob/v6.0/Documentation/ABI/testing/sysfs-bus-pci#L344-L355\n",
      "2023-09-22 15:50:31.566618: I tensorflow/compiler/xla/stream_executor/cuda/cuda_gpu_executor.cc:995] successful NUMA node read from SysFS had negative value (-1), but there must be at least one NUMA node, so returning NUMA node zero. See more at https://github.com/torvalds/linux/blob/v6.0/Documentation/ABI/testing/sysfs-bus-pci#L344-L355\n",
      "2023-09-22 15:50:31.566717: I tensorflow/core/common_runtime/gpu/gpu_device.cc:1639] Created device /job:localhost/replica:0/task:0/device:GPU:0 with 2639 MB memory:  -> device: 0, name: NVIDIA GeForce GTX 1650, pci bus id: 0000:01:00.0, compute capability: 7.5\n"
     ]
    }
   ],
   "source": [
    "train_ds = tfdf.keras.pd_dataframe_to_tf_dataset(train_ds_pd, label=label)\n",
    "test_ds = tfdf.keras.pd_dataframe_to_tf_dataset(test_ds_pd, label=label)"
   ]
  },
  {
   "cell_type": "code",
   "execution_count": 13,
   "id": "ecbd47a8",
   "metadata": {},
   "outputs": [
    {
     "name": "stdout",
     "output_type": "stream",
     "text": [
      "Use /tmp/tmpjogpm51w as temporary training directory\n",
      "Reading training dataset...\n",
      "Training dataset read in 0:00:00.194934. Found 234 examples.\n",
      "Training model...\n",
      "Model trained in 0:00:00.055773\n",
      "Compiling model...\n",
      "Model compiled.\n"
     ]
    },
    {
     "name": "stderr",
     "output_type": "stream",
     "text": [
      "[INFO 23-09-22 15:52:10.0521 -03 kernel.cc:1243] Loading model from path /tmp/tmpjogpm51w/model/ with prefix 8b5d49c4e7b64919\n",
      "[INFO 23-09-22 15:52:10.0592 -03 decision_forest.cc:660] Model loaded with 300 root(s), 4372 node(s), and 7 input feature(s).\n",
      "[INFO 23-09-22 15:52:10.0592 -03 abstract_model.cc:1311] Engine \"RandomForestGeneric\" built\n",
      "[INFO 23-09-22 15:52:10.0592 -03 kernel.cc:1075] Use fast generic engine\n"
     ]
    },
    {
     "data": {
      "text/plain": [
       "<keras.src.callbacks.History at 0x7f4ba78d2ca0>"
      ]
     },
     "execution_count": 13,
     "metadata": {},
     "output_type": "execute_result"
    }
   ],
   "source": [
    "# Specify the model.\n",
    "model_1 = tfdf.keras.RandomForestModel()\n",
    "\n",
    "# Optionally, add evaluation metrics.\n",
    "model_1.compile(\n",
    "    metrics=[\"accuracy\"])\n",
    "\n",
    "model_1.fit(x=train_ds)"
   ]
  },
  {
   "cell_type": "code",
   "execution_count": 17,
   "id": "f6c6e1e7",
   "metadata": {
    "scrolled": false
   },
   "outputs": [
    {
     "name": "stdout",
     "output_type": "stream",
     "text": [
      "1/1 [==============================] - 0s 64ms/step\n"
     ]
    }
   ],
   "source": [
    "y_pred = model_1.predict(x=test_ds)"
   ]
  },
  {
   "cell_type": "code",
   "execution_count": 22,
   "id": "0adbcf64",
   "metadata": {},
   "outputs": [],
   "source": [
    "import sys\n",
    "sys.path.append('../') \n",
    "import utils_exec_models as ut"
   ]
  },
  {
   "cell_type": "code",
   "execution_count": 26,
   "id": "5760781f",
   "metadata": {},
   "outputs": [
    {
     "ename": "ValueError",
     "evalue": "Classification metrics can't handle a mix of multiclass and continuous-multioutput targets",
     "output_type": "error",
     "traceback": [
      "\u001b[0;31m---------------------------------------------------------------------------\u001b[0m",
      "\u001b[0;31mValueError\u001b[0m                                Traceback (most recent call last)",
      "\u001b[0;32m/tmp/ipykernel_714886/1960805659.py\u001b[0m in \u001b[0;36m<module>\u001b[0;34m\u001b[0m\n\u001b[1;32m      1\u001b[0m \u001b[0;32mfrom\u001b[0m \u001b[0msklearn\u001b[0m\u001b[0;34m.\u001b[0m\u001b[0mmetrics\u001b[0m \u001b[0;32mimport\u001b[0m \u001b[0mclassification_report\u001b[0m\u001b[0;34m\u001b[0m\u001b[0;34m\u001b[0m\u001b[0m\n\u001b[1;32m      2\u001b[0m \u001b[0;34m\u001b[0m\u001b[0m\n\u001b[0;32m----> 3\u001b[0;31m print(classification_report(\n\u001b[0m\u001b[1;32m      4\u001b[0m     \u001b[0mtest_ds_pd\u001b[0m\u001b[0;34m.\u001b[0m\u001b[0mspecies\u001b[0m\u001b[0;34m.\u001b[0m\u001b[0mvalues\u001b[0m\u001b[0;34m,\u001b[0m\u001b[0;34m\u001b[0m\u001b[0;34m\u001b[0m\u001b[0m\n\u001b[1;32m      5\u001b[0m     \u001b[0my_pred\u001b[0m\u001b[0;34m,\u001b[0m\u001b[0;34m\u001b[0m\u001b[0;34m\u001b[0m\u001b[0m\n",
      "\u001b[0;32m~/anaconda3/lib/python3.9/site-packages/sklearn/metrics/_classification.py\u001b[0m in \u001b[0;36mclassification_report\u001b[0;34m(y_true, y_pred, labels, target_names, sample_weight, digits, output_dict, zero_division)\u001b[0m\n\u001b[1;32m   2308\u001b[0m     \"\"\"\n\u001b[1;32m   2309\u001b[0m \u001b[0;34m\u001b[0m\u001b[0m\n\u001b[0;32m-> 2310\u001b[0;31m     \u001b[0my_type\u001b[0m\u001b[0;34m,\u001b[0m \u001b[0my_true\u001b[0m\u001b[0;34m,\u001b[0m \u001b[0my_pred\u001b[0m \u001b[0;34m=\u001b[0m \u001b[0m_check_targets\u001b[0m\u001b[0;34m(\u001b[0m\u001b[0my_true\u001b[0m\u001b[0;34m,\u001b[0m \u001b[0my_pred\u001b[0m\u001b[0;34m)\u001b[0m\u001b[0;34m\u001b[0m\u001b[0;34m\u001b[0m\u001b[0m\n\u001b[0m\u001b[1;32m   2311\u001b[0m \u001b[0;34m\u001b[0m\u001b[0m\n\u001b[1;32m   2312\u001b[0m     \u001b[0;32mif\u001b[0m \u001b[0mlabels\u001b[0m \u001b[0;32mis\u001b[0m \u001b[0;32mNone\u001b[0m\u001b[0;34m:\u001b[0m\u001b[0;34m\u001b[0m\u001b[0;34m\u001b[0m\u001b[0m\n",
      "\u001b[0;32m~/anaconda3/lib/python3.9/site-packages/sklearn/metrics/_classification.py\u001b[0m in \u001b[0;36m_check_targets\u001b[0;34m(y_true, y_pred)\u001b[0m\n\u001b[1;32m     93\u001b[0m \u001b[0;34m\u001b[0m\u001b[0m\n\u001b[1;32m     94\u001b[0m     \u001b[0;32mif\u001b[0m \u001b[0mlen\u001b[0m\u001b[0;34m(\u001b[0m\u001b[0my_type\u001b[0m\u001b[0;34m)\u001b[0m \u001b[0;34m>\u001b[0m \u001b[0;36m1\u001b[0m\u001b[0;34m:\u001b[0m\u001b[0;34m\u001b[0m\u001b[0;34m\u001b[0m\u001b[0m\n\u001b[0;32m---> 95\u001b[0;31m         raise ValueError(\n\u001b[0m\u001b[1;32m     96\u001b[0m             \"Classification metrics can't handle a mix of {0} and {1} targets\".format(\n\u001b[1;32m     97\u001b[0m                 \u001b[0mtype_true\u001b[0m\u001b[0;34m,\u001b[0m \u001b[0mtype_pred\u001b[0m\u001b[0;34m\u001b[0m\u001b[0;34m\u001b[0m\u001b[0m\n",
      "\u001b[0;31mValueError\u001b[0m: Classification metrics can't handle a mix of multiclass and continuous-multioutput targets"
     ]
    }
   ],
   "source": [
    "from sklearn.metrics import classification_report\n",
    "\n",
    "print(classification_report(\n",
    "    test_ds_pd.species.values, \n",
    "    y_pred, \n",
    "#     target_names=target_names\n",
    "))\n"
   ]
  },
  {
   "cell_type": "code",
   "execution_count": 27,
   "id": "d5079410",
   "metadata": {},
   "outputs": [
    {
     "data": {
      "text/plain": [
       "3      0\n",
       "4      0\n",
       "6      0\n",
       "7      0\n",
       "8      0\n",
       "      ..\n",
       "330    2\n",
       "331    2\n",
       "333    2\n",
       "337    2\n",
       "343    2\n",
       "Name: species, Length: 110, dtype: int64"
      ]
     },
     "execution_count": 27,
     "metadata": {},
     "output_type": "execute_result"
    }
   ],
   "source": [
    "test_ds_pd.species"
   ]
  },
  {
   "cell_type": "code",
   "execution_count": 28,
   "id": "ff12a1e9",
   "metadata": {},
   "outputs": [
    {
     "data": {
      "text/plain": [
       "array([[0.63333285, 0.15999992, 0.20666654],\n",
       "       [0.99999917, 0.        , 0.        ],\n",
       "       [0.99666584, 0.        , 0.00333333],\n",
       "       [0.99666584, 0.00333333, 0.        ],\n",
       "       [0.99999917, 0.        , 0.        ],\n",
       "       [0.9933325 , 0.        , 0.00666667],\n",
       "       [0.99666584, 0.        , 0.00333333],\n",
       "       [0.99999917, 0.        , 0.        ],\n",
       "       [0.99999917, 0.        , 0.        ],\n",
       "       [0.99999917, 0.        , 0.        ],\n",
       "       [0.99999917, 0.        , 0.        ],\n",
       "       [0.9899992 , 0.00666667, 0.00333333],\n",
       "       [0.99666584, 0.        , 0.00333333],\n",
       "       [0.99666584, 0.        , 0.00333333],\n",
       "       [0.76666605, 0.00333333, 0.22999986],\n",
       "       [0.9933325 , 0.        , 0.00666667],\n",
       "       [0.99666584, 0.00333333, 0.        ],\n",
       "       [0.9399992 , 0.        , 0.06000001],\n",
       "       [0.99999917, 0.        , 0.        ],\n",
       "       [0.99999917, 0.        , 0.        ],\n",
       "       [0.9933325 , 0.00333333, 0.00333333],\n",
       "       [0.99999917, 0.        , 0.        ],\n",
       "       [0.99999917, 0.        , 0.        ],\n",
       "       [0.9399992 , 0.00333333, 0.05666667],\n",
       "       [0.9833325 , 0.        , 0.01666667],\n",
       "       [0.99666584, 0.        , 0.00333333],\n",
       "       [0.99999917, 0.        , 0.        ],\n",
       "       [0.9899992 , 0.        , 0.01      ],\n",
       "       [0.99666584, 0.        , 0.00333333],\n",
       "       [0.93333256, 0.06666667, 0.        ],\n",
       "       [0.826666  , 0.16333325, 0.01      ],\n",
       "       [0.9933325 , 0.        , 0.00666667],\n",
       "       [0.9933325 , 0.00666667, 0.        ],\n",
       "       [0.99999917, 0.        , 0.        ],\n",
       "       [0.9933325 , 0.00333333, 0.00333333],\n",
       "       [0.96333253, 0.03333334, 0.00333333],\n",
       "       [0.9166659 , 0.05333334, 0.03      ],\n",
       "       [0.99999917, 0.        , 0.        ],\n",
       "       [0.99666584, 0.        , 0.00333333],\n",
       "       [0.836666  , 0.1466666 , 0.01666667],\n",
       "       [0.99999917, 0.        , 0.        ],\n",
       "       [0.99999917, 0.        , 0.        ],\n",
       "       [0.99666584, 0.        , 0.00333333],\n",
       "       [0.9899992 , 0.        , 0.01      ],\n",
       "       [0.9733325 , 0.        , 0.02666667],\n",
       "       [0.9466659 , 0.00333333, 0.05      ],\n",
       "       [0.99999917, 0.        , 0.        ],\n",
       "       [0.82333267, 0.1466666 , 0.03      ],\n",
       "       [0.9833325 , 0.        , 0.01666667],\n",
       "       [0.99666584, 0.        , 0.00333333],\n",
       "       [0.99666584, 0.        , 0.00333333],\n",
       "       [0.        , 0.99999917, 0.        ],\n",
       "       [0.        , 0.99999917, 0.        ],\n",
       "       [0.        , 0.99999917, 0.        ],\n",
       "       [0.20666654, 0.77666605, 0.01666667],\n",
       "       [0.        , 0.99999917, 0.        ],\n",
       "       [0.        , 0.99999917, 0.        ],\n",
       "       [0.        , 0.99999917, 0.        ],\n",
       "       [0.        , 0.99999917, 0.        ],\n",
       "       [0.05666667, 0.9233326 , 0.02      ],\n",
       "       [0.18333323, 0.7033328 , 0.11333329],\n",
       "       [0.        , 0.99999917, 0.        ],\n",
       "       [0.06000001, 0.91999924, 0.02      ],\n",
       "       [0.18666656, 0.7699994 , 0.04333334],\n",
       "       [0.        , 0.99999917, 0.        ],\n",
       "       [0.01333333, 0.9833325 , 0.00333333],\n",
       "       [0.        , 0.99999917, 0.        ],\n",
       "       [0.04666667, 0.94333255, 0.01      ],\n",
       "       [0.03      , 0.96333253, 0.00666667],\n",
       "       [0.        , 0.99999917, 0.        ],\n",
       "       [0.        , 0.99999917, 0.        ],\n",
       "       [0.        , 0.99999917, 0.        ],\n",
       "       [0.        , 0.99999917, 0.        ],\n",
       "       [0.        , 0.99999917, 0.        ],\n",
       "       [0.        , 0.99999917, 0.        ],\n",
       "       [0.03666667, 0.9399992 , 0.02333334],\n",
       "       [0.        , 0.99999917, 0.        ],\n",
       "       [0.        , 0.99999917, 0.        ],\n",
       "       [0.        , 0.99999917, 0.        ],\n",
       "       [0.24333318, 0.5166663 , 0.23999985],\n",
       "       [0.03      , 0.9499992 , 0.02      ],\n",
       "       [0.        , 0.99999917, 0.        ],\n",
       "       [0.        , 0.99999917, 0.        ],\n",
       "       [0.00333333, 0.9899992 , 0.00666667],\n",
       "       [0.        , 0.99999917, 0.        ],\n",
       "       [0.        , 0.99999917, 0.        ],\n",
       "       [0.        , 0.99999917, 0.        ],\n",
       "       [0.        , 0.99999917, 0.        ],\n",
       "       [0.        , 0.99999917, 0.        ],\n",
       "       [0.        , 0.99999917, 0.        ],\n",
       "       [0.        , 0.99999917, 0.        ],\n",
       "       [0.01      , 0.        , 0.9899992 ],\n",
       "       [0.10999996, 0.00333333, 0.88666594],\n",
       "       [0.04666667, 0.        , 0.95333254],\n",
       "       [0.03      , 0.        , 0.9699992 ],\n",
       "       [0.01666667, 0.        , 0.9833325 ],\n",
       "       [0.05333334, 0.        , 0.9466659 ],\n",
       "       [0.        , 0.        , 0.99999917],\n",
       "       [0.07333333, 0.01      , 0.9166659 ],\n",
       "       [0.5199996 , 0.01333333, 0.4666663 ],\n",
       "       [0.01666667, 0.        , 0.9833325 ],\n",
       "       [0.13999994, 0.16333325, 0.6966661 ],\n",
       "       [0.02      , 0.        , 0.9799992 ],\n",
       "       [0.00333333, 0.        , 0.99666584],\n",
       "       [0.01333333, 0.        , 0.98666584],\n",
       "       [0.5599996 , 0.00666667, 0.433333  ],\n",
       "       [0.        , 0.        , 0.99999917],\n",
       "       [0.02666667, 0.        , 0.9733325 ],\n",
       "       [0.01      , 0.        , 0.9899992 ],\n",
       "       [0.00333333, 0.        , 0.99666584]], dtype=float32)"
      ]
     },
     "execution_count": 28,
     "metadata": {},
     "output_type": "execute_result"
    }
   ],
   "source": [
    "y_pred"
   ]
  },
  {
   "cell_type": "code",
   "execution_count": null,
   "id": "2c2ca4b3",
   "metadata": {},
   "outputs": [],
   "source": []
  }
 ],
 "metadata": {
  "kernelspec": {
   "display_name": "Python 3 (ipykernel)",
   "language": "python",
   "name": "python3"
  },
  "language_info": {
   "codemirror_mode": {
    "name": "ipython",
    "version": 3
   },
   "file_extension": ".py",
   "mimetype": "text/x-python",
   "name": "python",
   "nbconvert_exporter": "python",
   "pygments_lexer": "ipython3",
   "version": "3.9.13"
  }
 },
 "nbformat": 4,
 "nbformat_minor": 5
}
