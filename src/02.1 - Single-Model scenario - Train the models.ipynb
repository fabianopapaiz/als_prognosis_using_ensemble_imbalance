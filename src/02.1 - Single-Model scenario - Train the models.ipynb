{
 "cells": [
  {
   "cell_type": "code",
   "execution_count": 1,
   "metadata": {},
   "outputs": [],
   "source": [
    "#this is to auto-reload modules (like utils.py)\n",
    "%load_ext autoreload\n",
    "%autoreload 2\n",
    "\n",
    "from IPython.core.display import display, HTML\n",
    "from IPython.display import clear_output\n",
    "\n",
    "import os\n",
    "import sys\n",
    "import time\n",
    "import gc\n",
    "import json\n",
    "import glob\n",
    "\n",
    "import shutil\n",
    "\n",
    "import utils\n",
    "\n",
    "import numpy as np\n",
    "import pandas as pd\n",
    "# config to not reduce column width\n",
    "pd.set_option('display.max_columns', None)\n",
    "pd.set_option('display.expand_frame_repr', False)\n",
    "pd.set_option('max_colwidth', None)\n",
    "\n",
    "\n",
    "import matplotlib.pyplot as plt\n",
    "from matplotlib.colors import BoundaryNorm, ListedColormap\n",
    "\n",
    "import seaborn as sns\n",
    "plt.style.use('seaborn-whitegrid')\n",
    "\n",
    "import plotly as ply\n",
    "import plotly.express as px\n",
    "\n",
    "from itertools import permutations, combinations\n",
    "\n",
    "from tabulate import tabulate\n",
    "\n",
    "import pickle\n",
    "from joblib import dump, load\n",
    "\n",
    "\n",
    "import sklearn\n",
    "\n",
    "# import warnings\n",
    "# warnings.simplefilter(action='ignore', category=FutureWarning)\n",
    "# warnings.filterwarnings('always')\n",
    "\n",
    "# Surpress warnings:\n",
    "def warn(*args, **kwargs):\n",
    "    pass\n",
    "import warnings\n",
    "warnings.warn = warn\n",
    "\n",
    "SMALL_SIZE = 12\n",
    "MEDIUM_SIZE = 14\n",
    "BIGGER_SIZE = 16\n",
    "\n",
    "plt.rc('font', size=SMALL_SIZE)          # controls default text sizes\n",
    "plt.rc('axes', titlesize=BIGGER_SIZE)     # fontsize of the axes title\n",
    "plt.rc('axes', labelsize=SMALL_SIZE)    # fontsize of the x and y labels\n",
    "plt.rc('xtick', labelsize=MEDIUM_SIZE)    # fontsize of the tick labels\n",
    "plt.rc('ytick', labelsize=MEDIUM_SIZE)    # fontsize of the tick labels\n",
    "plt.rc('legend', fontsize=MEDIUM_SIZE)    # legend fontsize\n",
    "plt.rc('figure', titlesize=BIGGER_SIZE)  # fontsize of the figure title\n",
    "\n",
    "%matplotlib inline  \n",
    "\n"
   ]
  },
  {
   "cell_type": "markdown",
   "metadata": {},
   "source": [
    "### Get Data (Training, Validation, Balanced etc) "
   ]
  },
  {
   "cell_type": "code",
   "execution_count": 3,
   "metadata": {},
   "outputs": [],
   "source": [
    "X_train, X_train_fs, y_train, \\\n",
    "X_train_balanced, X_train_fs_balanced, y_train_balanced,\\\n",
    "X_valid, X_valid_fs, y_valid, training_sets = utils.get_train_and_validation_data(\n",
    "    return_training_sets=True\n",
    ")\n",
    "\n",
    "\n",
    "\n",
    "# training_sets = [\n",
    "#     # Training\n",
    "#     ['Training', 'All Features'     , X_train   , y_train],\n",
    "#     ['Training', 'Feature Selection', X_train_fs, y_train],\n",
    "#     # Training Balanced\n",
    "#     ['Training Balanced', 'All Features'     , X_train_balanced   , y_train_balanced],\n",
    "#     ['Training Balanced', 'Feature Selection', X_train_fs_balanced, y_train_balanced],\n",
    "# ]\n",
    "\n",
    "# validation_set = [X_valid, y_valid]\n"
   ]
  },
  {
   "cell_type": "markdown",
   "metadata": {},
   "source": [
    "### Create and Execute the Models using GridSearch using the _n_ inputs and outputs created inf the previous step"
   ]
  },
  {
   "cell_type": "code",
   "execution_count": 18,
   "metadata": {
    "scrolled": true
   },
   "outputs": [
    {
     "name": "stdout",
     "output_type": "stream",
     "text": [
      "\n",
      "FINISHED !!!\n",
      "3180 samples were saved\n",
      "CPU times: user 5.66 s, sys: 493 ms, total: 6.16 s\n",
      "Wall time: 1min 6s\n"
     ]
    }
   ],
   "source": [
    "%%time\n",
    "\n",
    "csv_results_saved = os.path.abspath('exec_results/results.csv')\n",
    "\n",
    "\n",
    "i = 1\n",
    "total = len(training_sets)\n",
    "\n",
    "\n",
    "# verify if already exists an CSV with the results\n",
    "overwrite_results_saved_previously = False\n",
    "\n",
    "if os.path.exists(csv_results_saved) and overwrite_results_saved_previously==False:\n",
    "    print('Reading results saved previously...')\n",
    "    df_results = utils.read_csv(csv_file=csv_results_saved)\n",
    "else:\n",
    "    df_results = None\n",
    "\n",
    "\n",
    "kfold = utils.get_kfold_splits()\n",
    "\n",
    "testing=False\n",
    "\n",
    "\n",
    "for dataset_info, features_info, X, y, _ in training_sets:\n",
    "    print()\n",
    "    utils.print_string_with_separators(f'{i}/{total}: Executing using \"{dataset_info}\" set  with \"{features_info}\"...')\n",
    "\n",
    "    i += 1\n",
    "    \n",
    "    ## define the models and hyperparameters for the GridSearch\n",
    "    param_grid = []\n",
    "\n",
    "#     utils.create_models_SVM_grid(param_grid, testing=testing)\n",
    "#     utils.create_models_NB_grid(param_grid, testing=testing)\n",
    "#     utils.create_models_DT_grid(param_grid, testing=testing)\n",
    "#     utils.create_models_kNN_grid(param_grid, testing=testing)\n",
    "#     utils.create_models_RF_grid(param_grid, testing=testing)\n",
    "#     utils.create_models_NN_grid(qty_features=X.shape[1],  param_grid=param_grid, testing=testing)\n",
    "#     utils.create_models_XGB_grid(param_grid, testing=testing)\n",
    "#     utils.create_models_CatBoost_grid(param_grid, testing=testing)\n",
    "\n",
    "    if len(param_grid) > 0:\n",
    "\n",
    "        ## execute GridSearch\n",
    "        grid, df_results_aux = utils.exec_grid_search(\n",
    "            param_grid=param_grid, \n",
    "            X=X, \n",
    "            y=y,\n",
    "            cv=kfold,\n",
    "            verbose=1,\n",
    "            return_train_score=False,\n",
    "            sort_results=False,\n",
    "            dataset_info=dataset_info,\n",
    "            features_info=features_info,\n",
    "            #\n",
    "        #     n_jobs=utils.N_JOBS, \n",
    "        #     scoring='roc_auc',\n",
    "        )\n",
    "\n",
    "        if df_results is None:\n",
    "            df_results = df_results_aux\n",
    "        else:\n",
    "            df_results = pd.concat([df_results, df_results_aux])\n",
    "\n",
    "        clear_output(wait=True)\n",
    "\n",
    "        time.sleep(10)\n",
    "\n",
    "print()\n",
    "print('FINISHED !!!')\n",
    "\n",
    "# sort performances results and show results\n",
    "df_results = utils.sort_performances_results(df=df_results)       \n",
    "# display(df_results)\n",
    "\n",
    "# save the results\n",
    "utils.save_to_csv(df=df_results, csv_file=csv_results_saved)\n"
   ]
  },
  {
   "cell_type": "markdown",
   "metadata": {},
   "source": [
    "---\n",
    "---\n",
    "---\n",
    "# OTHERS"
   ]
  },
  {
   "cell_type": "markdown",
   "metadata": {},
   "source": [
    "### Show other grid properties"
   ]
  },
  {
   "cell_type": "code",
   "execution_count": null,
   "metadata": {
    "scrolled": false
   },
   "outputs": [],
   "source": [
    "print(f'Best Bal.Acc.: {grid.best_score_:.2f}')\n",
    "print(f'        Model: {grid.best_params_[\"classifier\"]} ') \n",
    "print(f'Performance using the Validation set:  {grid.score(X_valid, y_valid):.2f}')\n",
    "\n",
    "\n"
   ]
  },
  {
   "cell_type": "code",
   "execution_count": null,
   "metadata": {},
   "outputs": [],
   "source": []
  },
  {
   "cell_type": "code",
   "execution_count": null,
   "metadata": {},
   "outputs": [],
   "source": []
  }
 ],
 "metadata": {
  "kernelspec": {
   "display_name": "Python 3 (ipykernel)",
   "language": "python",
   "name": "python3"
  },
  "language_info": {
   "codemirror_mode": {
    "name": "ipython",
    "version": 3
   },
   "file_extension": ".py",
   "mimetype": "text/x-python",
   "name": "python",
   "nbconvert_exporter": "python",
   "pygments_lexer": "ipython3",
   "version": "3.10.9"
  }
 },
 "nbformat": 4,
 "nbformat_minor": 4
}
